{
 "cells": [
  {
   "cell_type": "code",
   "execution_count": 4,
   "metadata": {},
   "outputs": [],
   "source": [
    "import pandas as pd\n",
    "import numpy as np\n",
    "import matplotlib.pyplot as plt \n",
    "import seaborn as sns\n",
    "import os\n",
    "import datetime as dt \n",
    "import yfinance as yf\n",
    "\n",
    "from sklearn.metrics import mean_squared_error , mean_absolute_error , explained_variance_score , r2_score\n",
    "from sklearn.metrics import confusion_matrix , classification_report , accuracy_score , roc_auc_score , roc_curve\n",
    "from sklearn.metrics import mean_poisson_deviance , mean_gamma_deviance , accuracy_score\n",
    "\n",
    "import tensorflow as tf\n",
    "from tensorflow.keras.models import Sequential\n",
    "from tensorflow.keras.layers import Dense , Dropout , LSTM , BatchNormalization\n",
    "\n",
    "from itertools import cycle\n",
    "import plotly.graph_objects as go\n",
    "import plotly.express as px\n",
    "from plotly.subplots import make_subplots"
   ]
  },
  {
   "cell_type": "code",
   "execution_count": 5,
   "metadata": {},
   "outputs": [
    {
     "name": "stdout",
     "output_type": "stream",
     "text": [
      "[*********************100%***********************]  1 of 1 completed\n"
     ]
    }
   ],
   "source": [
    "df = yf.download('BTC-USD' ,start='2014-09-17' , end='2024-01-03')"
   ]
  },
  {
   "cell_type": "code",
   "execution_count": 6,
   "metadata": {},
   "outputs": [],
   "source": [
    "df.to_csv('BTC-USD.csv')"
   ]
  },
  {
   "cell_type": "code",
   "execution_count": 7,
   "metadata": {},
   "outputs": [
    {
     "data": {
      "text/html": [
       "<div>\n",
       "<style scoped>\n",
       "    .dataframe tbody tr th:only-of-type {\n",
       "        vertical-align: middle;\n",
       "    }\n",
       "\n",
       "    .dataframe tbody tr th {\n",
       "        vertical-align: top;\n",
       "    }\n",
       "\n",
       "    .dataframe thead th {\n",
       "        text-align: right;\n",
       "    }\n",
       "</style>\n",
       "<table border=\"1\" class=\"dataframe\">\n",
       "  <thead>\n",
       "    <tr style=\"text-align: right;\">\n",
       "      <th></th>\n",
       "      <th>Open</th>\n",
       "      <th>High</th>\n",
       "      <th>Low</th>\n",
       "      <th>Close</th>\n",
       "      <th>Adj Close</th>\n",
       "      <th>Volume</th>\n",
       "    </tr>\n",
       "    <tr>\n",
       "      <th>Date</th>\n",
       "      <th></th>\n",
       "      <th></th>\n",
       "      <th></th>\n",
       "      <th></th>\n",
       "      <th></th>\n",
       "      <th></th>\n",
       "    </tr>\n",
       "  </thead>\n",
       "  <tbody>\n",
       "    <tr>\n",
       "      <th>2014-09-17</th>\n",
       "      <td>465.864014</td>\n",
       "      <td>468.174011</td>\n",
       "      <td>452.421997</td>\n",
       "      <td>457.334015</td>\n",
       "      <td>457.334015</td>\n",
       "      <td>21056800</td>\n",
       "    </tr>\n",
       "    <tr>\n",
       "      <th>2014-09-18</th>\n",
       "      <td>456.859985</td>\n",
       "      <td>456.859985</td>\n",
       "      <td>413.104004</td>\n",
       "      <td>424.440002</td>\n",
       "      <td>424.440002</td>\n",
       "      <td>34483200</td>\n",
       "    </tr>\n",
       "    <tr>\n",
       "      <th>2014-09-19</th>\n",
       "      <td>424.102997</td>\n",
       "      <td>427.834991</td>\n",
       "      <td>384.532013</td>\n",
       "      <td>394.795990</td>\n",
       "      <td>394.795990</td>\n",
       "      <td>37919700</td>\n",
       "    </tr>\n",
       "    <tr>\n",
       "      <th>2014-09-20</th>\n",
       "      <td>394.673004</td>\n",
       "      <td>423.295990</td>\n",
       "      <td>389.882996</td>\n",
       "      <td>408.903992</td>\n",
       "      <td>408.903992</td>\n",
       "      <td>36863600</td>\n",
       "    </tr>\n",
       "    <tr>\n",
       "      <th>2014-09-21</th>\n",
       "      <td>408.084991</td>\n",
       "      <td>412.425995</td>\n",
       "      <td>393.181000</td>\n",
       "      <td>398.821014</td>\n",
       "      <td>398.821014</td>\n",
       "      <td>26580100</td>\n",
       "    </tr>\n",
       "    <tr>\n",
       "      <th>...</th>\n",
       "      <td>...</td>\n",
       "      <td>...</td>\n",
       "      <td>...</td>\n",
       "      <td>...</td>\n",
       "      <td>...</td>\n",
       "      <td>...</td>\n",
       "    </tr>\n",
       "    <tr>\n",
       "      <th>2023-12-29</th>\n",
       "      <td>42614.644531</td>\n",
       "      <td>43124.324219</td>\n",
       "      <td>41424.062500</td>\n",
       "      <td>42099.402344</td>\n",
       "      <td>42099.402344</td>\n",
       "      <td>26000021055</td>\n",
       "    </tr>\n",
       "    <tr>\n",
       "      <th>2023-12-30</th>\n",
       "      <td>42091.753906</td>\n",
       "      <td>42584.125000</td>\n",
       "      <td>41556.226562</td>\n",
       "      <td>42156.902344</td>\n",
       "      <td>42156.902344</td>\n",
       "      <td>16013925945</td>\n",
       "    </tr>\n",
       "    <tr>\n",
       "      <th>2023-12-31</th>\n",
       "      <td>42152.097656</td>\n",
       "      <td>42860.937500</td>\n",
       "      <td>41998.253906</td>\n",
       "      <td>42265.187500</td>\n",
       "      <td>42265.187500</td>\n",
       "      <td>16397498810</td>\n",
       "    </tr>\n",
       "    <tr>\n",
       "      <th>2024-01-01</th>\n",
       "      <td>42280.234375</td>\n",
       "      <td>44175.437500</td>\n",
       "      <td>42214.976562</td>\n",
       "      <td>44167.332031</td>\n",
       "      <td>44167.332031</td>\n",
       "      <td>18426978443</td>\n",
       "    </tr>\n",
       "    <tr>\n",
       "      <th>2024-01-02</th>\n",
       "      <td>44187.140625</td>\n",
       "      <td>45899.707031</td>\n",
       "      <td>44176.949219</td>\n",
       "      <td>44957.968750</td>\n",
       "      <td>44957.968750</td>\n",
       "      <td>39335274536</td>\n",
       "    </tr>\n",
       "  </tbody>\n",
       "</table>\n",
       "<p>3395 rows × 6 columns</p>\n",
       "</div>"
      ],
      "text/plain": [
       "                    Open          High           Low         Close  \\\n",
       "Date                                                                 \n",
       "2014-09-17    465.864014    468.174011    452.421997    457.334015   \n",
       "2014-09-18    456.859985    456.859985    413.104004    424.440002   \n",
       "2014-09-19    424.102997    427.834991    384.532013    394.795990   \n",
       "2014-09-20    394.673004    423.295990    389.882996    408.903992   \n",
       "2014-09-21    408.084991    412.425995    393.181000    398.821014   \n",
       "...                  ...           ...           ...           ...   \n",
       "2023-12-29  42614.644531  43124.324219  41424.062500  42099.402344   \n",
       "2023-12-30  42091.753906  42584.125000  41556.226562  42156.902344   \n",
       "2023-12-31  42152.097656  42860.937500  41998.253906  42265.187500   \n",
       "2024-01-01  42280.234375  44175.437500  42214.976562  44167.332031   \n",
       "2024-01-02  44187.140625  45899.707031  44176.949219  44957.968750   \n",
       "\n",
       "               Adj Close       Volume  \n",
       "Date                                   \n",
       "2014-09-17    457.334015     21056800  \n",
       "2014-09-18    424.440002     34483200  \n",
       "2014-09-19    394.795990     37919700  \n",
       "2014-09-20    408.903992     36863600  \n",
       "2014-09-21    398.821014     26580100  \n",
       "...                  ...          ...  \n",
       "2023-12-29  42099.402344  26000021055  \n",
       "2023-12-30  42156.902344  16013925945  \n",
       "2023-12-31  42265.187500  16397498810  \n",
       "2024-01-01  44167.332031  18426978443  \n",
       "2024-01-02  44957.968750  39335274536  \n",
       "\n",
       "[3395 rows x 6 columns]"
      ]
     },
     "execution_count": 7,
     "metadata": {},
     "output_type": "execute_result"
    }
   ],
   "source": [
    "df"
   ]
  },
  {
   "cell_type": "code",
   "execution_count": 8,
   "metadata": {},
   "outputs": [
    {
     "data": {
      "text/plain": [
       "(3395, 6)"
      ]
     },
     "execution_count": 8,
     "metadata": {},
     "output_type": "execute_result"
    }
   ],
   "source": [
    "df.shape"
   ]
  },
  {
   "cell_type": "code",
   "execution_count": 9,
   "metadata": {},
   "outputs": [
    {
     "name": "stdout",
     "output_type": "stream",
     "text": [
      "total number of days in the dataset :  3395\n",
      "total number of features in the dataset :  6\n"
     ]
    }
   ],
   "source": [
    "print(\"total number of days in the dataset : \", df.shape[0])\n",
    "print(\"total number of features in the dataset : \", df.shape[1])"
   ]
  },
  {
   "cell_type": "code",
   "execution_count": 10,
   "metadata": {},
   "outputs": [
    {
     "name": "stdout",
     "output_type": "stream",
     "text": [
      "<class 'pandas.core.frame.DataFrame'>\n",
      "DatetimeIndex: 3395 entries, 2014-09-17 to 2024-01-02\n",
      "Data columns (total 6 columns):\n",
      " #   Column     Non-Null Count  Dtype  \n",
      "---  ------     --------------  -----  \n",
      " 0   Open       3395 non-null   float64\n",
      " 1   High       3395 non-null   float64\n",
      " 2   Low        3395 non-null   float64\n",
      " 3   Close      3395 non-null   float64\n",
      " 4   Adj Close  3395 non-null   float64\n",
      " 5   Volume     3395 non-null   int64  \n",
      "dtypes: float64(5), int64(1)\n",
      "memory usage: 185.7 KB\n"
     ]
    }
   ],
   "source": [
    "df.info()"
   ]
  },
  {
   "cell_type": "code",
   "execution_count": 11,
   "metadata": {},
   "outputs": [
    {
     "data": {
      "text/html": [
       "<div>\n",
       "<style scoped>\n",
       "    .dataframe tbody tr th:only-of-type {\n",
       "        vertical-align: middle;\n",
       "    }\n",
       "\n",
       "    .dataframe tbody tr th {\n",
       "        vertical-align: top;\n",
       "    }\n",
       "\n",
       "    .dataframe thead th {\n",
       "        text-align: right;\n",
       "    }\n",
       "</style>\n",
       "<table border=\"1\" class=\"dataframe\">\n",
       "  <thead>\n",
       "    <tr style=\"text-align: right;\">\n",
       "      <th></th>\n",
       "      <th>Open</th>\n",
       "      <th>High</th>\n",
       "      <th>Low</th>\n",
       "      <th>Close</th>\n",
       "      <th>Adj Close</th>\n",
       "      <th>Volume</th>\n",
       "    </tr>\n",
       "  </thead>\n",
       "  <tbody>\n",
       "    <tr>\n",
       "      <th>count</th>\n",
       "      <td>3395.000000</td>\n",
       "      <td>3395.000000</td>\n",
       "      <td>3395.000000</td>\n",
       "      <td>3395.000000</td>\n",
       "      <td>3395.000000</td>\n",
       "      <td>3.395000e+03</td>\n",
       "    </tr>\n",
       "    <tr>\n",
       "      <th>mean</th>\n",
       "      <td>14588.960941</td>\n",
       "      <td>14930.505102</td>\n",
       "      <td>14222.420439</td>\n",
       "      <td>14600.736431</td>\n",
       "      <td>14600.736431</td>\n",
       "      <td>1.655625e+10</td>\n",
       "    </tr>\n",
       "    <tr>\n",
       "      <th>std</th>\n",
       "      <td>16197.096721</td>\n",
       "      <td>16586.513285</td>\n",
       "      <td>15762.882025</td>\n",
       "      <td>16200.689676</td>\n",
       "      <td>16200.689676</td>\n",
       "      <td>1.908303e+10</td>\n",
       "    </tr>\n",
       "    <tr>\n",
       "      <th>min</th>\n",
       "      <td>176.897003</td>\n",
       "      <td>211.731003</td>\n",
       "      <td>171.509995</td>\n",
       "      <td>178.102997</td>\n",
       "      <td>178.102997</td>\n",
       "      <td>5.914570e+06</td>\n",
       "    </tr>\n",
       "    <tr>\n",
       "      <th>25%</th>\n",
       "      <td>911.960510</td>\n",
       "      <td>923.695007</td>\n",
       "      <td>897.231018</td>\n",
       "      <td>918.540985</td>\n",
       "      <td>918.540985</td>\n",
       "      <td>1.571455e+08</td>\n",
       "    </tr>\n",
       "    <tr>\n",
       "      <th>50%</th>\n",
       "      <td>8243.402344</td>\n",
       "      <td>8408.516602</td>\n",
       "      <td>8054.120117</td>\n",
       "      <td>8245.915039</td>\n",
       "      <td>8245.915039</td>\n",
       "      <td>1.154115e+10</td>\n",
       "    </tr>\n",
       "    <tr>\n",
       "      <th>75%</th>\n",
       "      <td>23789.396484</td>\n",
       "      <td>24261.601562</td>\n",
       "      <td>23277.829102</td>\n",
       "      <td>23807.059570</td>\n",
       "      <td>23807.059570</td>\n",
       "      <td>2.687238e+10</td>\n",
       "    </tr>\n",
       "    <tr>\n",
       "      <th>max</th>\n",
       "      <td>67549.734375</td>\n",
       "      <td>68789.625000</td>\n",
       "      <td>66382.062500</td>\n",
       "      <td>67566.828125</td>\n",
       "      <td>67566.828125</td>\n",
       "      <td>3.509679e+11</td>\n",
       "    </tr>\n",
       "  </tbody>\n",
       "</table>\n",
       "</div>"
      ],
      "text/plain": [
       "               Open          High           Low         Close     Adj Close  \\\n",
       "count   3395.000000   3395.000000   3395.000000   3395.000000   3395.000000   \n",
       "mean   14588.960941  14930.505102  14222.420439  14600.736431  14600.736431   \n",
       "std    16197.096721  16586.513285  15762.882025  16200.689676  16200.689676   \n",
       "min      176.897003    211.731003    171.509995    178.102997    178.102997   \n",
       "25%      911.960510    923.695007    897.231018    918.540985    918.540985   \n",
       "50%     8243.402344   8408.516602   8054.120117   8245.915039   8245.915039   \n",
       "75%    23789.396484  24261.601562  23277.829102  23807.059570  23807.059570   \n",
       "max    67549.734375  68789.625000  66382.062500  67566.828125  67566.828125   \n",
       "\n",
       "             Volume  \n",
       "count  3.395000e+03  \n",
       "mean   1.655625e+10  \n",
       "std    1.908303e+10  \n",
       "min    5.914570e+06  \n",
       "25%    1.571455e+08  \n",
       "50%    1.154115e+10  \n",
       "75%    2.687238e+10  \n",
       "max    3.509679e+11  "
      ]
     },
     "execution_count": 11,
     "metadata": {},
     "output_type": "execute_result"
    }
   ],
   "source": [
    "df.describe()"
   ]
  },
  {
   "cell_type": "code",
   "execution_count": 13,
   "metadata": {},
   "outputs": [
    {
     "name": "stdout",
     "output_type": "stream",
     "text": [
      "total number of null values in the dataset :  0\n",
      "total number of NA values in the dataset :  0\n"
     ]
    }
   ],
   "source": [
    "print(\"total number of null values in the dataset : \", df.isnull().sum().sum())\n",
    "print(\"total number of NA values in the dataset : \", df.isna().sum().sum())"
   ]
  },
  {
   "cell_type": "code",
   "execution_count": 14,
   "metadata": {},
   "outputs": [
    {
     "name": "stdout",
     "output_type": "stream",
     "text": [
      "start date of dataset :  2014-09-17 00:00:00\n",
      "end date of dataset :  2024-01-02 00:00:00\n"
     ]
    }
   ],
   "source": [
    "startdate = df.index.min()\n",
    "enddate = df.index.max()\n",
    "print(\"start date of dataset : \", startdate)\n",
    "print(\"end date of dataset : \", enddate)"
   ]
  },
  {
   "cell_type": "code",
   "execution_count": null,
   "metadata": {},
   "outputs": [],
   "source": []
  }
 ],
 "metadata": {
  "kernelspec": {
   "display_name": "Python 3",
   "language": "python",
   "name": "python3"
  },
  "language_info": {
   "codemirror_mode": {
    "name": "ipython",
    "version": 3
   },
   "file_extension": ".py",
   "mimetype": "text/x-python",
   "name": "python",
   "nbconvert_exporter": "python",
   "pygments_lexer": "ipython3",
   "version": "3.11.6"
  }
 },
 "nbformat": 4,
 "nbformat_minor": 2
}
